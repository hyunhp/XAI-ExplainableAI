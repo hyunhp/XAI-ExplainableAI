{
 "cells": [
  {
   "cell_type": "code",
   "execution_count": 16,
   "metadata": {},
   "outputs": [],
   "source": [
    "# To compute mean and standard deviation\n",
    "\n",
    "from torchvision import transforms\n",
    "from PIL import Image\n",
    "import os\n",
    "import numpy as np\n",
    "from tqdm import tqdm\n",
    "\n",
    "def ComputeMeanStd(datadir:str):\n",
    "    '''\n",
    "    Compute Means and Standard deviation\n",
    "    Argument\n",
    "        - datadir : Dataset located folder direction \n",
    "    '''\n",
    "    image_paths = [os.path.join(datadir, filename) for filename in os.listdir(datadir) if filename.endswith(('.jpg', '.jpeg', '.png'))]\n",
    "    \n",
    "    # Create array of shape (3, )\n",
    "    mean = np.zeros(3)\n",
    "    std  = np.zeros(3)\n",
    "    \n",
    "    for path in tqdm(image_paths):\n",
    "        img = Image.open(path).convert('RGB')\n",
    "        img_array = np.array(img) / 255.0\n",
    "        \n",
    "        mean += np.mean(img_array, axis=(0,1))\n",
    "        std  += np.std(img_array, axis=(0,1))\n",
    "        \n",
    "    mean /= len(image_paths)\n",
    "    std  /= len(image_paths)\n",
    "\n",
    "    dict_ = {'Mean': mean.tolist(), 'Std':std.tolist()}\n",
    "    \n",
    "    return dict_"
   ]
  },
  {
   "cell_type": "code",
   "execution_count": 8,
   "metadata": {},
   "outputs": [
    {
     "name": "stderr",
     "output_type": "stream",
     "text": [
      "100%|██████████| 10015/10015 [03:14<00:00, 51.43it/s]\n"
     ]
    }
   ],
   "source": [
    "MeanStddict = ComputeMeanStd(datadir='../HAM10000/images/')"
   ]
  },
  {
   "cell_type": "code",
   "execution_count": 20,
   "metadata": {},
   "outputs": [],
   "source": [
    "import json\n",
    "\n",
    "def dump_json(dict_file:dict, save_name:str, save_path:str):\n",
    "    '''\n",
    "    Dump json file into local \n",
    "    Argument\n",
    "        - dict_file : Target dictionary to save\n",
    "        - save_name : Save file name\n",
    "        - save_path : Save file path\n",
    "    '''\n",
    "    with open(f'{save_path}/{save_name}', 'w') as json_file:\n",
    "        json.dump(dict_file, json_file)\n",
    "        print(f'Dumped Done.....')"
   ]
  },
  {
   "cell_type": "code",
   "execution_count": 22,
   "metadata": {},
   "outputs": [
    {
     "name": "stdout",
     "output_type": "stream",
     "text": [
      "Dumped Done.....\n"
     ]
    }
   ],
   "source": [
    "dump_json(MeanStddict, 'HAM10000_MeanStd.json', '../HAM10000/')"
   ]
  },
  {
   "cell_type": "code",
   "execution_count": null,
   "metadata": {},
   "outputs": [],
   "source": []
  }
 ],
 "metadata": {
  "kernelspec": {
   "display_name": "cam_model",
   "language": "python",
   "name": "python3"
  },
  "language_info": {
   "codemirror_mode": {
    "name": "ipython",
    "version": 3
   },
   "file_extension": ".py",
   "mimetype": "text/x-python",
   "name": "python",
   "nbconvert_exporter": "python",
   "pygments_lexer": "ipython3",
   "version": "3.10.0"
  }
 },
 "nbformat": 4,
 "nbformat_minor": 2
}
