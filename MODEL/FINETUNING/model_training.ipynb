{
 "cells": [
  {
   "cell_type": "code",
   "execution_count": 1,
   "metadata": {},
   "outputs": [],
   "source": [
    "# Train CAM model with pretrained model in this case, resnet18 and resnet50\n",
    "# Because data is not fit with resnet back data, imagenet"
   ]
  },
  {
   "cell_type": "code",
   "execution_count": 1,
   "metadata": {},
   "outputs": [
    {
     "name": "stdout",
     "output_type": "stream",
     "text": [
      "RANDOM STATE 42 IS STAIBLIZED....\n",
      "IMPORTED....\n"
     ]
    }
   ],
   "source": [
    "import os\n",
    "import random\n",
    "import torch\n",
    "import torch.nn as nn\n",
    "import torch.optim as optim\n",
    "from torch.utils.data import Dataset, DataLoader\n",
    "from torchvision import models, transforms\n",
    "from torch.optim import lr_scheduler\n",
    "from PIL import Image\n",
    "from sklearn.metrics import accuracy_score\n",
    "import pandas as pd\n",
    "import numpy as np\n",
    "import json\n",
    "from tqdm import tqdm\n",
    "import sys\n",
    "sys.path.append('../')\n",
    "from random_state import set_seed\n",
    "sys.path.remove('../')\n",
    "import time\n",
    "\n",
    "local_path = 'C:/Users/MZC01-HYUNHOPART/Desktop/PROJECT/PAPER/HAM10000'\n",
    "\n",
    "# SET RANDOMSEED\n",
    "set_seed(seed=42)\n",
    "\n",
    "# Get Mean and Std about MAM10000\n",
    "with open(f'{local_path}/HAM10000_MeanStd.json', 'r') as ms_json:\n",
    "    MeanStd = json.load(ms_json)\n",
    "    \n",
    "import warnings\n",
    "warnings.filterwarnings(\"ignore\", category=UserWarning) \n",
    "\n",
    "print(f'IMPORTED....')"
   ]
  },
  {
   "cell_type": "code",
   "execution_count": 2,
   "metadata": {},
   "outputs": [],
   "source": [
    "class CustomDataset(Dataset):\n",
    "    def __init__(self, root_dir, label_dir, transform=None, augmented_images=None, augmented_labels=None):\n",
    "        self.root_dir = root_dir\n",
    "        self.metadata = pd.read_csv(label_dir)\n",
    "        self.transform = transform\n",
    "\n",
    "        # Create a mapping from string labels to integers\n",
    "        self.label_mapping = {str(label): idx for idx, label in enumerate(self.metadata.iloc[:, 1].unique())}\n",
    "        \n",
    "        # Print unique labels for debugging\n",
    "        print(\"Unique Labels in Dataset:\", self.label_mapping)\n",
    "\n",
    "        # Augmented data\n",
    "        self.augmented_images = augmented_images if augmented_images is not None else []\n",
    "        self.augmented_labels = augmented_labels if augmented_labels is not None else []\n",
    "\n",
    "    def __len__(self):\n",
    "        # Return the total number of samples, including both original and augmented\n",
    "        return len(self.metadata) + len(self.augmented_images)\n",
    "\n",
    "    def unique_class(self):\n",
    "        return len(self.metadata.iloc[:, 1].unique())\n",
    "\n",
    "    def __getitem__(self, idx):\n",
    "        if idx < len(self.metadata):\n",
    "            # Original data\n",
    "            img_name = self.metadata.iloc[idx, 0]\n",
    "            label_str = self.metadata.iloc[idx, 1]\n",
    "            label = self.label_mapping[label_str]\n",
    "            img_path = os.path.join(self.root_dir, img_name + '.jpg')\n",
    "            image = Image.open(img_path).convert('RGB')\n",
    "        else:\n",
    "            # Augmented data\n",
    "            idx -= len(self.metadata)\n",
    "            image = self.augmented_images[idx]\n",
    "            label = self.augmented_labels[idx]\n",
    "            \n",
    "        if self.transform:\n",
    "            image = self.transform(image)\n",
    "\n",
    "        return image, label\n",
    "\n",
    "\n",
    "def load_finetune_dataset(data_dir:str, label_dir:str, batch_size:int=32, \n",
    "                          MeanStd:dict=MeanStd, num_workers:int=0, apply_augment:bool=True, apply_random:bool=True):\n",
    "    '''\n",
    "    Load target fintune dataset to fine tune on pre-trained model\n",
    "    Argument\n",
    "        - data_dir: The directory containing the dataset.\n",
    "        - label_dir: The directory containing label data in csv file.\n",
    "        - batch_size: The batch size for loading the dataset.    \n",
    "        - meanstd : Computed the HAM10000 mean and standard deviation value  \n",
    "    '''\n",
    "    transform = transforms.Compose([\n",
    "        transforms.Resize((224, 224)) # ImageNet Trained size\n",
    "        , transforms.ToTensor()\n",
    "        , transforms.Normalize(mean=MeanStd['Mean'], std=MeanStd['Std'])\n",
    "    ])\n",
    "\n",
    "    dataset = CustomDataset(data_dir, label_dir, transform=transform)\n",
    "    unique_class = dataset.unique_class()\n",
    "\n",
    "    # Split the dataset into training, validation and test sets\n",
    "    train_size = int(0.8 * len(dataset))\n",
    "    valid_size = int(0.1 * len(dataset))\n",
    "    test_size  = len(dataset) - train_size - valid_size\n",
    "        \n",
    "    # Split train, valid, and test data\n",
    "    train_dataset, valid_dataset, test_dataset = torch.utils.data.random_split(dataset, [train_size, valid_size, test_size])\n",
    "\n",
    "    if apply_augment:\n",
    "        # Apply data augmentation only to the training dataset\n",
    "        augmented_train_images, augmented_train_labels, randomness = apply_augmentation(train_dataset, randomness=apply_random)\n",
    "\n",
    "        # Extend the training dataset with augmented images\n",
    "        train_dataset.dataset.augmented_images = augmented_train_images\n",
    "        train_dataset.dataset.augmented_labels = augmented_train_labels\n",
    "        train_dataset.dataset.metadata = pd.concat([train_dataset.dataset.metadata,\n",
    "                                                    pd.DataFrame({'Image': [f'image_{i}' for i in range(len(augmented_train_images))],\n",
    "                                                                'Label': augmented_train_labels})],\n",
    "                                                ignore_index=True)\n",
    "    else:\n",
    "        randomness = False\n",
    "\n",
    "    # Print information\n",
    "    print(f'Training dataset size: {len(train_dataset.dataset)}')\n",
    "    \n",
    "    train_loader = DataLoader(train_dataset, batch_size=batch_size, shuffle=True , num_workers=num_workers)\n",
    "    valid_loader = DataLoader(valid_dataset, batch_size=batch_size, shuffle=False, num_workers=num_workers)\n",
    "    test_loader  = DataLoader(test_dataset,  batch_size=batch_size, shuffle=False, num_workers=num_workers)\n",
    "    \n",
    "    return train_loader, valid_loader, test_loader, unique_class, apply_augment, randomness\n",
    "\n",
    "def apply_augmentation(dataset, randomness:bool=True):\n",
    "    augmentations = [\n",
    "        transforms.RandomHorizontalFlip(),\n",
    "        transforms.RandomVerticalFlip(),\n",
    "        transforms.RandomRotation(30),\n",
    "    ]\n",
    "\n",
    "    augmented_images = []\n",
    "    augmented_labels = []\n",
    "    \n",
    "    \n",
    "    for image, label in tqdm(dataset):\n",
    "        if randomness:\n",
    "            # Apply a random augmentation to each image\n",
    "            augmentation = random.choice(augmentations)\n",
    "            augmented_images.append(transforms.ToPILImage()(augmentation(image)))\n",
    "            augmented_labels.append(label)\n",
    "\n",
    "        else :\n",
    "            # Apply all augmentations to each image\n",
    "            augmented_images.extend([transforms.ToPILImage()(augmentation(image)) for augmentation in augmentations])\n",
    "            augmented_labels.extend([label] * len(augmentations))\n",
    "    \n",
    "    return augmented_images, augmented_labels, randomness"
   ]
  },
  {
   "cell_type": "code",
   "execution_count": 3,
   "metadata": {},
   "outputs": [],
   "source": [
    "class EarlyStopping:\n",
    "    def __init__(self, patience:int=5, threshold:float=0.1):\n",
    "        self.patience  = patience\n",
    "        self.threshold = threshold\n",
    "        self.counter   = 0\n",
    "        self.best_score= 0\n",
    "        self.early_stop= False\n",
    "    \n",
    "    def __call__(self, val_accuracy):\n",
    "        score = val_accuracy\n",
    "        \n",
    "        if score > self.best_score + self.threshold:\n",
    "            self.counter   = 0\n",
    "            self.best_score= score\n",
    "        \n",
    "        else:\n",
    "            self.counter+=1\n",
    "            if self.counter >= self.patience:\n",
    "                self.early_stop = True\n",
    "        \n",
    "        return self.early_stop"
   ]
  },
  {
   "cell_type": "code",
   "execution_count": 4,
   "metadata": {},
   "outputs": [
    {
     "name": "stdout",
     "output_type": "stream",
     "text": [
      "Unique Labels in Dataset: {'bkl': 0, 'nv': 1, 'df': 2, 'mel': 3, 'vasc': 4, 'bcc': 5, 'akiec': 6}\n",
      "Training dataset size: 10015\n",
      "DATA LOADER IS COMPLETED....\n",
      "\n",
      "CPU times: total: 0 ns\n",
      "Wall time: 14 ms\n"
     ]
    }
   ],
   "source": [
    "\n",
    "%%time\n",
    "\n",
    "train_loader, valid_loader, test_loader, unique_class, apply_augment, randomness = load_finetune_dataset(\n",
    "    data_dir=f'{local_path}/images/', \n",
    "    label_dir=f'{local_path}/HAM10000_label.csv',\n",
    "    batch_size=64, MeanStd=MeanStd, num_workers=0, apply_augment=False, apply_random=True,\n",
    "    )\n",
    "\n",
    "print(f'DATA LOADER IS COMPLETED....\\n')"
   ]
  },
  {
   "cell_type": "code",
   "execution_count": 5,
   "metadata": {},
   "outputs": [
    {
     "name": "stdout",
     "output_type": "stream",
     "text": [
      "Model set as resnet50......\n"
     ]
    }
   ],
   "source": [
    "model_architecture = str(input(\"Please select model architecture betweeb resnet18, resnet50 and resnet101.\"))\n",
    "\n",
    "if model_architecture not in ['resnet18', 'resnet50', 'resnet101']:\n",
    "    raise ValueError(f\"Model architecture '{model_architecture}' should be 'resnet18', 'resnet50' and 'resnet101'.\")\n",
    "else:\n",
    "    print(f'Model set as {model_architecture}......')"
   ]
  },
  {
   "cell_type": "code",
   "execution_count": 6,
   "metadata": {},
   "outputs": [
    {
     "name": "stdout",
     "output_type": "stream",
     "text": [
      "MODEL WILL FINE TUNE BY 100 TIMES.....\n"
     ]
    }
   ],
   "source": [
    "\n",
    "# Trainig Loop\n",
    "num_epochs = int(input(\"How many times to fine tune the model? e.g., 10, 20, 30\"))\n",
    "\n",
    "print(f'MODEL WILL FINE TUNE BY {num_epochs} TIMES.....')"
   ]
  },
  {
   "cell_type": "code",
   "execution_count": 7,
   "metadata": {},
   "outputs": [
    {
     "name": "stdout",
     "output_type": "stream",
     "text": [
      "\n",
      "PYTORCH DEVICE : cuda:0\n",
      "\n"
     ]
    }
   ],
   "source": [
    "# Load pre-trained Resnet18 and Resnet50 for training\n",
    "\n",
    "model_class = getattr(models, model_architecture)\n",
    "model = model_class(weights=True)\n",
    "model.fc = nn.Linear(model.fc.in_features, unique_class)\n",
    "\n",
    "# Define loss function and optimizer\n",
    "criterion = nn.CrossEntropyLoss()\n",
    "optimizer = optim.Adam(model.parameters(), lr=0.001, weight_decay=1e-4) # can change sgd for computation power\n",
    "scheduler = lr_scheduler.StepLR(optimizer, step_size=5, gamma=0.1)\n",
    "\n",
    "# Use GPU\n",
    "device = torch.device('cuda:0' if torch.cuda.is_available() else 'cpu')\n",
    "model.to(device)\n",
    "\n",
    "print(f'PYTORCH DEVICE : {device}')"
   ]
  },
  {
   "cell_type": "code",
   "execution_count": 8,
   "metadata": {},
   "outputs": [
    {
     "name": "stderr",
     "output_type": "stream",
     "text": [
      "Training Progress:   1%|          | 1/100 [12:25<20:30:09, 745.56s/epoch]"
     ]
    },
    {
     "name": "stdout",
     "output_type": "stream",
     "text": [
      "Epoch 1/100, Training Loss: 0.8635, Validation Accuracy: 70.03%...\n"
     ]
    },
    {
     "name": "stderr",
     "output_type": "stream",
     "text": [
      "Training Progress:   2%|▏         | 2/100 [26:16<21:39:31, 795.63s/epoch]"
     ]
    },
    {
     "name": "stdout",
     "output_type": "stream",
     "text": [
      "Epoch 2/100, Training Loss: 0.7430, Validation Accuracy: 41.16%...\n"
     ]
    },
    {
     "name": "stderr",
     "output_type": "stream",
     "text": [
      "Training Progress:   3%|▎         | 3/100 [39:56<21:44:21, 806.82s/epoch]"
     ]
    },
    {
     "name": "stdout",
     "output_type": "stream",
     "text": [
      "Epoch 3/100, Training Loss: 0.7454, Validation Accuracy: 73.53%...\n"
     ]
    },
    {
     "name": "stderr",
     "output_type": "stream",
     "text": [
      "Training Progress:   4%|▍         | 4/100 [53:27<21:33:54, 808.69s/epoch]"
     ]
    },
    {
     "name": "stdout",
     "output_type": "stream",
     "text": [
      "Epoch 4/100, Training Loss: 0.6504, Validation Accuracy: 75.02%...\n"
     ]
    },
    {
     "name": "stderr",
     "output_type": "stream",
     "text": [
      "Training Progress:   5%|▌         | 5/100 [1:07:07<21:26:43, 812.67s/epoch]"
     ]
    },
    {
     "name": "stdout",
     "output_type": "stream",
     "text": [
      "Epoch 5/100, Training Loss: 0.6010, Validation Accuracy: 70.23%...\n"
     ]
    },
    {
     "name": "stderr",
     "output_type": "stream",
     "text": [
      "Training Progress:   6%|▌         | 6/100 [1:20:46<21:16:38, 814.88s/epoch]"
     ]
    },
    {
     "name": "stdout",
     "output_type": "stream",
     "text": [
      "Epoch 6/100, Training Loss: 0.5030, Validation Accuracy: 80.32%...\n"
     ]
    },
    {
     "name": "stderr",
     "output_type": "stream",
     "text": [
      "Training Progress:   7%|▋         | 7/100 [1:34:26<21:05:17, 816.32s/epoch]"
     ]
    },
    {
     "name": "stdout",
     "output_type": "stream",
     "text": [
      "Epoch 7/100, Training Loss: 0.4320, Validation Accuracy: 80.52%...\n"
     ]
    },
    {
     "name": "stderr",
     "output_type": "stream",
     "text": [
      "Training Progress:   8%|▊         | 8/100 [1:47:59<20:50:27, 815.52s/epoch]"
     ]
    },
    {
     "name": "stdout",
     "output_type": "stream",
     "text": [
      "Epoch 8/100, Training Loss: 0.3967, Validation Accuracy: 80.82%...\n"
     ]
    },
    {
     "name": "stderr",
     "output_type": "stream",
     "text": [
      "Training Progress:   9%|▉         | 9/100 [2:01:43<20:40:44, 818.07s/epoch]"
     ]
    },
    {
     "name": "stdout",
     "output_type": "stream",
     "text": [
      "Epoch 9/100, Training Loss: 0.3468, Validation Accuracy: 81.92%...\n"
     ]
    },
    {
     "name": "stderr",
     "output_type": "stream",
     "text": [
      "Training Progress:  10%|█         | 10/100 [2:15:27<20:29:49, 819.88s/epoch]"
     ]
    },
    {
     "name": "stdout",
     "output_type": "stream",
     "text": [
      "Epoch 10/100, Training Loss: 0.2843, Validation Accuracy: 79.62%...\n"
     ]
    },
    {
     "name": "stderr",
     "output_type": "stream",
     "text": [
      "Training Progress:  11%|█         | 11/100 [2:29:08<20:16:43, 820.26s/epoch]"
     ]
    },
    {
     "name": "stdout",
     "output_type": "stream",
     "text": [
      "Epoch 11/100, Training Loss: 0.1880, Validation Accuracy: 81.62%...\n"
     ]
    },
    {
     "name": "stderr",
     "output_type": "stream",
     "text": [
      "Training Progress:  12%|█▏        | 12/100 [2:42:38<19:58:11, 816.95s/epoch]"
     ]
    },
    {
     "name": "stdout",
     "output_type": "stream",
     "text": [
      "Epoch 12/100, Training Loss: 0.1519, Validation Accuracy: 82.02%...\n"
     ]
    },
    {
     "name": "stderr",
     "output_type": "stream",
     "text": [
      "Training Progress:  13%|█▎        | 13/100 [2:56:34<19:53:11, 822.89s/epoch]"
     ]
    },
    {
     "name": "stdout",
     "output_type": "stream",
     "text": [
      "Epoch 13/100, Training Loss: 0.1292, Validation Accuracy: 81.22%...\n"
     ]
    },
    {
     "name": "stderr",
     "output_type": "stream",
     "text": [
      "Training Progress:  14%|█▍        | 14/100 [3:10:32<19:45:57, 827.42s/epoch]"
     ]
    },
    {
     "name": "stdout",
     "output_type": "stream",
     "text": [
      "Epoch 14/100, Training Loss: 0.1158, Validation Accuracy: 82.02%...\n"
     ]
    },
    {
     "name": "stderr",
     "output_type": "stream",
     "text": [
      "Training Progress:  15%|█▌        | 15/100 [3:24:29<19:36:26, 830.43s/epoch]"
     ]
    },
    {
     "name": "stdout",
     "output_type": "stream",
     "text": [
      "Epoch 15/100, Training Loss: 0.1014, Validation Accuracy: 82.02%...\n"
     ]
    },
    {
     "name": "stderr",
     "output_type": "stream",
     "text": [
      "Training Progress:  16%|█▌        | 16/100 [3:38:00<19:14:09, 824.40s/epoch]"
     ]
    },
    {
     "name": "stdout",
     "output_type": "stream",
     "text": [
      "Epoch 16/100, Training Loss: 0.0811, Validation Accuracy: 81.82%...\n"
     ]
    },
    {
     "name": "stderr",
     "output_type": "stream",
     "text": [
      "Training Progress:  17%|█▋        | 17/100 [3:51:35<18:56:46, 821.77s/epoch]"
     ]
    },
    {
     "name": "stdout",
     "output_type": "stream",
     "text": [
      "Epoch 17/100, Training Loss: 0.0813, Validation Accuracy: 82.02%...\n"
     ]
    },
    {
     "name": "stderr",
     "output_type": "stream",
     "text": [
      "Training Progress:  18%|█▊        | 18/100 [4:05:10<18:39:56, 819.47s/epoch]"
     ]
    },
    {
     "name": "stdout",
     "output_type": "stream",
     "text": [
      "Epoch 18/100, Training Loss: 0.0802, Validation Accuracy: 81.72%...\n"
     ]
    },
    {
     "name": "stderr",
     "output_type": "stream",
     "text": [
      "Training Progress:  19%|█▉        | 19/100 [4:18:28<18:17:53, 813.25s/epoch]"
     ]
    },
    {
     "name": "stdout",
     "output_type": "stream",
     "text": [
      "Epoch 19/100, Training Loss: 0.0887, Validation Accuracy: 81.82%...\n"
     ]
    },
    {
     "name": "stderr",
     "output_type": "stream",
     "text": [
      "Training Progress:  20%|██        | 20/100 [4:32:02<18:04:36, 813.46s/epoch]"
     ]
    },
    {
     "name": "stdout",
     "output_type": "stream",
     "text": [
      "Epoch 20/100, Training Loss: 0.0751, Validation Accuracy: 81.72%...\n"
     ]
    },
    {
     "name": "stderr",
     "output_type": "stream",
     "text": [
      "Training Progress:  21%|██        | 21/100 [4:45:38<17:51:59, 814.17s/epoch]"
     ]
    },
    {
     "name": "stdout",
     "output_type": "stream",
     "text": [
      "Epoch 21/100, Training Loss: 0.0787, Validation Accuracy: 81.92%...\n"
     ]
    },
    {
     "name": "stderr",
     "output_type": "stream",
     "text": [
      "Training Progress:  22%|██▏       | 22/100 [4:59:07<17:36:26, 812.65s/epoch]"
     ]
    },
    {
     "name": "stdout",
     "output_type": "stream",
     "text": [
      "Epoch 22/100, Training Loss: 0.0715, Validation Accuracy: 81.92%...\n"
     ]
    },
    {
     "name": "stderr",
     "output_type": "stream",
     "text": [
      "Training Progress:  23%|██▎       | 23/100 [5:12:29<17:18:45, 809.42s/epoch]"
     ]
    },
    {
     "name": "stdout",
     "output_type": "stream",
     "text": [
      "Epoch 23/100, Training Loss: 0.0749, Validation Accuracy: 81.42%...\n"
     ]
    },
    {
     "name": "stderr",
     "output_type": "stream",
     "text": [
      "Training Progress:  24%|██▍       | 24/100 [5:26:00<17:05:52, 809.90s/epoch]"
     ]
    },
    {
     "name": "stdout",
     "output_type": "stream",
     "text": [
      "Epoch 24/100, Training Loss: 0.0731, Validation Accuracy: 81.92%...\n"
     ]
    },
    {
     "name": "stderr",
     "output_type": "stream",
     "text": [
      "Training Progress:  25%|██▌       | 25/100 [5:39:36<16:54:40, 811.74s/epoch]"
     ]
    },
    {
     "name": "stdout",
     "output_type": "stream",
     "text": [
      "Epoch 25/100, Training Loss: 0.0753, Validation Accuracy: 81.92%...\n"
     ]
    },
    {
     "name": "stderr",
     "output_type": "stream",
     "text": [
      "Training Progress:  26%|██▌       | 26/100 [5:52:50<16:34:43, 806.53s/epoch]"
     ]
    },
    {
     "name": "stdout",
     "output_type": "stream",
     "text": [
      "Epoch 26/100, Training Loss: 0.0798, Validation Accuracy: 81.82%...\n"
     ]
    },
    {
     "name": "stderr",
     "output_type": "stream",
     "text": [
      "Training Progress:  27%|██▋       | 27/100 [6:06:24<16:23:58, 808.74s/epoch]"
     ]
    },
    {
     "name": "stdout",
     "output_type": "stream",
     "text": [
      "Epoch 27/100, Training Loss: 0.0740, Validation Accuracy: 81.22%...\n"
     ]
    },
    {
     "name": "stderr",
     "output_type": "stream",
     "text": [
      "Training Progress:  28%|██▊       | 28/100 [6:20:17<16:19:07, 815.94s/epoch]"
     ]
    },
    {
     "name": "stdout",
     "output_type": "stream",
     "text": [
      "Epoch 28/100, Training Loss: 0.0759, Validation Accuracy: 82.42%...\n"
     ]
    },
    {
     "name": "stderr",
     "output_type": "stream",
     "text": [
      "Training Progress:  29%|██▉       | 29/100 [6:34:18<16:14:23, 823.43s/epoch]"
     ]
    },
    {
     "name": "stdout",
     "output_type": "stream",
     "text": [
      "Epoch 29/100, Training Loss: 0.0785, Validation Accuracy: 82.52%...\n"
     ]
    },
    {
     "name": "stderr",
     "output_type": "stream",
     "text": [
      "Training Progress:  30%|███       | 30/100 [6:48:11<16:04:00, 826.30s/epoch]"
     ]
    },
    {
     "name": "stdout",
     "output_type": "stream",
     "text": [
      "Epoch 30/100, Training Loss: 0.0720, Validation Accuracy: 81.72%...\n"
     ]
    },
    {
     "name": "stderr",
     "output_type": "stream",
     "text": [
      "Training Progress:  31%|███       | 31/100 [7:02:06<15:53:22, 829.02s/epoch]"
     ]
    },
    {
     "name": "stdout",
     "output_type": "stream",
     "text": [
      "Epoch 31/100, Training Loss: 0.0751, Validation Accuracy: 82.22%...\n"
     ]
    },
    {
     "name": "stderr",
     "output_type": "stream",
     "text": [
      "Training Progress:  32%|███▏      | 32/100 [7:16:04<15:42:27, 831.58s/epoch]"
     ]
    },
    {
     "name": "stdout",
     "output_type": "stream",
     "text": [
      "Epoch 32/100, Training Loss: 0.0727, Validation Accuracy: 81.82%...\n"
     ]
    },
    {
     "name": "stderr",
     "output_type": "stream",
     "text": [
      "Training Progress:  33%|███▎      | 33/100 [7:30:00<15:30:10, 832.99s/epoch]"
     ]
    },
    {
     "name": "stdout",
     "output_type": "stream",
     "text": [
      "Epoch 33/100, Training Loss: 0.0799, Validation Accuracy: 81.72%...\n"
     ]
    },
    {
     "name": "stderr",
     "output_type": "stream",
     "text": [
      "Training Progress:  34%|███▍      | 34/100 [7:43:49<15:14:44, 831.58s/epoch]"
     ]
    },
    {
     "name": "stdout",
     "output_type": "stream",
     "text": [
      "Epoch 34/100, Training Loss: 0.0758, Validation Accuracy: 82.02%...\n"
     ]
    },
    {
     "name": "stderr",
     "output_type": "stream",
     "text": [
      "Training Progress:  35%|███▌      | 35/100 [7:57:23<14:55:12, 826.35s/epoch]"
     ]
    },
    {
     "name": "stdout",
     "output_type": "stream",
     "text": [
      "Epoch 35/100, Training Loss: 0.0828, Validation Accuracy: 81.72%...\n"
     ]
    },
    {
     "name": "stderr",
     "output_type": "stream",
     "text": [
      "Training Progress:  36%|███▌      | 36/100 [8:11:07<14:40:39, 825.62s/epoch]"
     ]
    },
    {
     "name": "stdout",
     "output_type": "stream",
     "text": [
      "Epoch 36/100, Training Loss: 0.0705, Validation Accuracy: 82.12%...\n"
     ]
    },
    {
     "name": "stderr",
     "output_type": "stream",
     "text": [
      "Training Progress:  37%|███▋      | 37/100 [8:25:20<14:35:32, 833.85s/epoch]"
     ]
    },
    {
     "name": "stdout",
     "output_type": "stream",
     "text": [
      "Epoch 37/100, Training Loss: 0.0747, Validation Accuracy: 82.22%...\n"
     ]
    },
    {
     "name": "stderr",
     "output_type": "stream",
     "text": [
      "Training Progress:  38%|███▊      | 38/100 [8:38:57<14:16:39, 829.02s/epoch]"
     ]
    },
    {
     "name": "stdout",
     "output_type": "stream",
     "text": [
      "Epoch 38/100, Training Loss: 0.0730, Validation Accuracy: 82.22%...\n"
     ]
    },
    {
     "name": "stderr",
     "output_type": "stream",
     "text": [
      "Training Progress:  39%|███▉      | 39/100 [8:52:21<13:55:06, 821.42s/epoch]"
     ]
    },
    {
     "name": "stdout",
     "output_type": "stream",
     "text": [
      "Epoch 39/100, Training Loss: 0.0756, Validation Accuracy: 82.42%...\n"
     ]
    },
    {
     "name": "stderr",
     "output_type": "stream",
     "text": [
      "Training Progress:  40%|████      | 40/100 [9:05:45<13:36:10, 816.17s/epoch]"
     ]
    },
    {
     "name": "stdout",
     "output_type": "stream",
     "text": [
      "Epoch 40/100, Training Loss: 0.0753, Validation Accuracy: 82.12%...\n"
     ]
    },
    {
     "name": "stderr",
     "output_type": "stream",
     "text": [
      "Training Progress:  41%|████      | 41/100 [9:19:18<13:21:33, 815.15s/epoch]"
     ]
    },
    {
     "name": "stdout",
     "output_type": "stream",
     "text": [
      "Epoch 41/100, Training Loss: 0.0746, Validation Accuracy: 82.12%...\n"
     ]
    },
    {
     "name": "stderr",
     "output_type": "stream",
     "text": [
      "Training Progress:  42%|████▏     | 42/100 [9:33:15<13:14:31, 821.93s/epoch]"
     ]
    },
    {
     "name": "stdout",
     "output_type": "stream",
     "text": [
      "Epoch 42/100, Training Loss: 0.0843, Validation Accuracy: 82.32%...\n"
     ]
    },
    {
     "name": "stderr",
     "output_type": "stream",
     "text": [
      "Training Progress:  43%|████▎     | 43/100 [9:47:16<13:05:59, 827.36s/epoch]"
     ]
    },
    {
     "name": "stdout",
     "output_type": "stream",
     "text": [
      "Epoch 43/100, Training Loss: 0.0796, Validation Accuracy: 82.32%...\n"
     ]
    },
    {
     "name": "stderr",
     "output_type": "stream",
     "text": [
      "Training Progress:  44%|████▍     | 44/100 [10:01:10<12:54:15, 829.57s/epoch]"
     ]
    },
    {
     "name": "stdout",
     "output_type": "stream",
     "text": [
      "Epoch 44/100, Training Loss: 0.0754, Validation Accuracy: 81.52%...\n"
     ]
    },
    {
     "name": "stderr",
     "output_type": "stream",
     "text": [
      "Training Progress:  45%|████▌     | 45/100 [10:14:34<12:33:21, 821.85s/epoch]"
     ]
    },
    {
     "name": "stdout",
     "output_type": "stream",
     "text": [
      "Epoch 45/100, Training Loss: 0.0741, Validation Accuracy: 81.92%...\n"
     ]
    },
    {
     "name": "stderr",
     "output_type": "stream",
     "text": [
      "Training Progress:  46%|████▌     | 46/100 [10:28:09<12:17:43, 819.70s/epoch]"
     ]
    },
    {
     "name": "stdout",
     "output_type": "stream",
     "text": [
      "Epoch 46/100, Training Loss: 0.0758, Validation Accuracy: 81.82%...\n"
     ]
    },
    {
     "name": "stderr",
     "output_type": "stream",
     "text": [
      "Training Progress:  47%|████▋     | 47/100 [10:41:38<12:01:13, 816.48s/epoch]"
     ]
    },
    {
     "name": "stdout",
     "output_type": "stream",
     "text": [
      "Epoch 47/100, Training Loss: 0.0764, Validation Accuracy: 81.52%...\n"
     ]
    },
    {
     "name": "stderr",
     "output_type": "stream",
     "text": [
      "Training Progress:  48%|████▊     | 48/100 [10:54:59<11:43:43, 811.99s/epoch]"
     ]
    },
    {
     "name": "stdout",
     "output_type": "stream",
     "text": [
      "Epoch 48/100, Training Loss: 0.0699, Validation Accuracy: 81.32%...\n"
     ]
    },
    {
     "name": "stderr",
     "output_type": "stream",
     "text": [
      "Training Progress:  49%|████▉     | 49/100 [11:08:19<11:27:04, 808.33s/epoch]"
     ]
    },
    {
     "name": "stdout",
     "output_type": "stream",
     "text": [
      "Epoch 49/100, Training Loss: 0.0710, Validation Accuracy: 81.72%...\n"
     ]
    },
    {
     "name": "stderr",
     "output_type": "stream",
     "text": [
      "Training Progress:  50%|█████     | 50/100 [11:21:45<11:13:05, 807.72s/epoch]"
     ]
    },
    {
     "name": "stdout",
     "output_type": "stream",
     "text": [
      "Epoch 50/100, Training Loss: 0.0746, Validation Accuracy: 81.32%...\n"
     ]
    },
    {
     "name": "stderr",
     "output_type": "stream",
     "text": [
      "Training Progress:  51%|█████     | 51/100 [11:35:08<10:58:19, 806.11s/epoch]"
     ]
    },
    {
     "name": "stdout",
     "output_type": "stream",
     "text": [
      "Epoch 51/100, Training Loss: 0.0720, Validation Accuracy: 81.62%...\n"
     ]
    },
    {
     "name": "stderr",
     "output_type": "stream",
     "text": [
      "Training Progress:  52%|█████▏    | 52/100 [11:48:29<10:43:48, 804.75s/epoch]"
     ]
    },
    {
     "name": "stdout",
     "output_type": "stream",
     "text": [
      "Epoch 52/100, Training Loss: 0.0799, Validation Accuracy: 81.72%...\n"
     ]
    },
    {
     "name": "stderr",
     "output_type": "stream",
     "text": [
      "Training Progress:  53%|█████▎    | 53/100 [12:01:58<10:31:15, 805.86s/epoch]"
     ]
    },
    {
     "name": "stdout",
     "output_type": "stream",
     "text": [
      "Epoch 53/100, Training Loss: 0.0768, Validation Accuracy: 81.52%...\n"
     ]
    },
    {
     "name": "stderr",
     "output_type": "stream",
     "text": [
      "Training Progress:  54%|█████▍    | 54/100 [12:15:44<10:22:36, 812.09s/epoch]"
     ]
    },
    {
     "name": "stdout",
     "output_type": "stream",
     "text": [
      "Epoch 54/100, Training Loss: 0.0753, Validation Accuracy: 82.02%...\n"
     ]
    },
    {
     "name": "stderr",
     "output_type": "stream",
     "text": [
      "Training Progress:  55%|█████▌    | 55/100 [12:29:26<10:11:18, 815.08s/epoch]"
     ]
    },
    {
     "name": "stdout",
     "output_type": "stream",
     "text": [
      "Epoch 55/100, Training Loss: 0.0753, Validation Accuracy: 81.52%...\n"
     ]
    },
    {
     "name": "stderr",
     "output_type": "stream",
     "text": [
      "Training Progress:  56%|█████▌    | 56/100 [12:42:38<9:52:30, 807.97s/epoch] "
     ]
    },
    {
     "name": "stdout",
     "output_type": "stream",
     "text": [
      "Epoch 56/100, Training Loss: 0.0796, Validation Accuracy: 82.42%...\n"
     ]
    },
    {
     "name": "stderr",
     "output_type": "stream",
     "text": [
      "Training Progress:  57%|█████▋    | 57/100 [12:55:58<9:37:23, 805.66s/epoch]"
     ]
    },
    {
     "name": "stdout",
     "output_type": "stream",
     "text": [
      "Epoch 57/100, Training Loss: 0.0735, Validation Accuracy: 81.82%...\n"
     ]
    },
    {
     "name": "stderr",
     "output_type": "stream",
     "text": [
      "Training Progress:  58%|█████▊    | 58/100 [13:09:27<9:24:44, 806.77s/epoch]"
     ]
    },
    {
     "name": "stdout",
     "output_type": "stream",
     "text": [
      "Epoch 58/100, Training Loss: 0.0765, Validation Accuracy: 81.82%...\n"
     ]
    },
    {
     "name": "stderr",
     "output_type": "stream",
     "text": [
      "Training Progress:  59%|█████▉    | 59/100 [13:22:57<9:11:50, 807.57s/epoch]"
     ]
    },
    {
     "name": "stdout",
     "output_type": "stream",
     "text": [
      "Epoch 59/100, Training Loss: 0.0760, Validation Accuracy: 82.02%...\n"
     ]
    },
    {
     "name": "stderr",
     "output_type": "stream",
     "text": [
      "Training Progress:  60%|██████    | 60/100 [13:36:28<8:59:04, 808.61s/epoch]"
     ]
    },
    {
     "name": "stdout",
     "output_type": "stream",
     "text": [
      "Epoch 60/100, Training Loss: 0.0768, Validation Accuracy: 81.82%...\n"
     ]
    },
    {
     "name": "stderr",
     "output_type": "stream",
     "text": [
      "Training Progress:  61%|██████    | 61/100 [13:49:56<8:45:33, 808.56s/epoch]"
     ]
    },
    {
     "name": "stdout",
     "output_type": "stream",
     "text": [
      "Epoch 61/100, Training Loss: 0.0735, Validation Accuracy: 81.82%...\n"
     ]
    },
    {
     "name": "stderr",
     "output_type": "stream",
     "text": [
      "Training Progress:  62%|██████▏   | 62/100 [14:03:32<8:33:31, 810.82s/epoch]"
     ]
    },
    {
     "name": "stdout",
     "output_type": "stream",
     "text": [
      "Epoch 62/100, Training Loss: 0.0775, Validation Accuracy: 82.02%...\n"
     ]
    },
    {
     "name": "stderr",
     "output_type": "stream",
     "text": [
      "Training Progress:  63%|██████▎   | 63/100 [14:17:17<8:22:36, 815.05s/epoch]"
     ]
    },
    {
     "name": "stdout",
     "output_type": "stream",
     "text": [
      "Epoch 63/100, Training Loss: 0.0770, Validation Accuracy: 81.92%...\n"
     ]
    },
    {
     "name": "stderr",
     "output_type": "stream",
     "text": [
      "Training Progress:  64%|██████▍   | 64/100 [14:30:56<8:09:39, 816.11s/epoch]"
     ]
    },
    {
     "name": "stdout",
     "output_type": "stream",
     "text": [
      "Epoch 64/100, Training Loss: 0.0753, Validation Accuracy: 81.72%...\n"
     ]
    },
    {
     "name": "stderr",
     "output_type": "stream",
     "text": [
      "Training Progress:  65%|██████▌   | 65/100 [14:44:32<7:56:01, 816.04s/epoch]"
     ]
    },
    {
     "name": "stdout",
     "output_type": "stream",
     "text": [
      "Epoch 65/100, Training Loss: 0.0710, Validation Accuracy: 82.32%...\n"
     ]
    },
    {
     "name": "stderr",
     "output_type": "stream",
     "text": [
      "Training Progress:  66%|██████▌   | 66/100 [14:58:09<7:42:37, 816.40s/epoch]"
     ]
    },
    {
     "name": "stdout",
     "output_type": "stream",
     "text": [
      "Epoch 66/100, Training Loss: 0.0757, Validation Accuracy: 82.52%...\n"
     ]
    },
    {
     "name": "stderr",
     "output_type": "stream",
     "text": [
      "Training Progress:  67%|██████▋   | 67/100 [15:11:31<7:26:43, 812.21s/epoch]"
     ]
    },
    {
     "name": "stdout",
     "output_type": "stream",
     "text": [
      "Epoch 67/100, Training Loss: 0.0732, Validation Accuracy: 82.02%...\n"
     ]
    },
    {
     "name": "stderr",
     "output_type": "stream",
     "text": [
      "Training Progress:  68%|██████▊   | 68/100 [15:23:49<7:01:17, 789.93s/epoch]"
     ]
    },
    {
     "name": "stdout",
     "output_type": "stream",
     "text": [
      "Epoch 68/100, Training Loss: 0.0802, Validation Accuracy: 81.42%...\n"
     ]
    },
    {
     "name": "stderr",
     "output_type": "stream",
     "text": [
      "Training Progress:  69%|██████▉   | 69/100 [15:33:41<6:17:24, 730.46s/epoch]"
     ]
    },
    {
     "name": "stdout",
     "output_type": "stream",
     "text": [
      "Epoch 69/100, Training Loss: 0.0763, Validation Accuracy: 82.22%...\n"
     ]
    },
    {
     "name": "stderr",
     "output_type": "stream",
     "text": [
      "Training Progress:  70%|███████   | 70/100 [15:43:48<5:46:43, 693.47s/epoch]"
     ]
    },
    {
     "name": "stdout",
     "output_type": "stream",
     "text": [
      "Epoch 70/100, Training Loss: 0.0709, Validation Accuracy: 81.92%...\n"
     ]
    },
    {
     "name": "stderr",
     "output_type": "stream",
     "text": [
      "Training Progress:  71%|███████   | 71/100 [15:53:40<5:20:27, 663.03s/epoch]"
     ]
    },
    {
     "name": "stdout",
     "output_type": "stream",
     "text": [
      "Epoch 71/100, Training Loss: 0.0762, Validation Accuracy: 81.82%...\n"
     ]
    },
    {
     "name": "stderr",
     "output_type": "stream",
     "text": [
      "Training Progress:  72%|███████▏  | 72/100 [16:06:38<5:25:24, 697.29s/epoch]"
     ]
    },
    {
     "name": "stdout",
     "output_type": "stream",
     "text": [
      "Epoch 72/100, Training Loss: 0.0717, Validation Accuracy: 81.82%...\n"
     ]
    },
    {
     "name": "stderr",
     "output_type": "stream",
     "text": [
      "Training Progress:  73%|███████▎  | 73/100 [16:20:11<5:29:26, 732.09s/epoch]"
     ]
    },
    {
     "name": "stdout",
     "output_type": "stream",
     "text": [
      "Epoch 73/100, Training Loss: 0.0775, Validation Accuracy: 82.12%...\n"
     ]
    },
    {
     "name": "stderr",
     "output_type": "stream",
     "text": [
      "Training Progress:  74%|███████▍  | 74/100 [16:33:21<5:24:44, 749.40s/epoch]"
     ]
    },
    {
     "name": "stdout",
     "output_type": "stream",
     "text": [
      "Epoch 74/100, Training Loss: 0.0724, Validation Accuracy: 81.92%...\n"
     ]
    },
    {
     "name": "stderr",
     "output_type": "stream",
     "text": [
      "Training Progress:  75%|███████▌  | 75/100 [16:47:11<5:22:25, 773.83s/epoch]"
     ]
    },
    {
     "name": "stdout",
     "output_type": "stream",
     "text": [
      "Epoch 75/100, Training Loss: 0.0735, Validation Accuracy: 82.22%...\n"
     ]
    },
    {
     "name": "stderr",
     "output_type": "stream",
     "text": [
      "Training Progress:  76%|███████▌  | 76/100 [17:01:25<5:19:09, 797.89s/epoch]"
     ]
    },
    {
     "name": "stdout",
     "output_type": "stream",
     "text": [
      "Epoch 76/100, Training Loss: 0.0754, Validation Accuracy: 81.92%...\n"
     ]
    },
    {
     "name": "stderr",
     "output_type": "stream",
     "text": [
      "Training Progress:  77%|███████▋  | 77/100 [17:12:36<4:51:13, 759.73s/epoch]"
     ]
    },
    {
     "name": "stdout",
     "output_type": "stream",
     "text": [
      "Epoch 77/100, Training Loss: 0.0760, Validation Accuracy: 81.52%...\n"
     ]
    },
    {
     "name": "stderr",
     "output_type": "stream",
     "text": [
      "Training Progress:  78%|███████▊  | 78/100 [17:26:53<4:49:11, 788.73s/epoch]"
     ]
    },
    {
     "name": "stdout",
     "output_type": "stream",
     "text": [
      "Epoch 78/100, Training Loss: 0.0753, Validation Accuracy: 82.02%...\n"
     ]
    },
    {
     "name": "stderr",
     "output_type": "stream",
     "text": [
      "Training Progress:  79%|███████▉  | 79/100 [17:40:11<4:37:03, 791.57s/epoch]"
     ]
    },
    {
     "name": "stdout",
     "output_type": "stream",
     "text": [
      "Epoch 79/100, Training Loss: 0.0786, Validation Accuracy: 82.02%...\n"
     ]
    },
    {
     "name": "stderr",
     "output_type": "stream",
     "text": [
      "Training Progress:  80%|████████  | 80/100 [17:52:29<4:18:29, 775.49s/epoch]"
     ]
    },
    {
     "name": "stdout",
     "output_type": "stream",
     "text": [
      "Epoch 80/100, Training Loss: 0.0762, Validation Accuracy: 81.92%...\n"
     ]
    },
    {
     "name": "stderr",
     "output_type": "stream",
     "text": [
      "Training Progress:  81%|████████  | 81/100 [18:03:12<3:52:58, 735.69s/epoch]"
     ]
    },
    {
     "name": "stdout",
     "output_type": "stream",
     "text": [
      "Epoch 81/100, Training Loss: 0.0776, Validation Accuracy: 81.82%...\n"
     ]
    },
    {
     "name": "stderr",
     "output_type": "stream",
     "text": [
      "Training Progress:  82%|████████▏ | 82/100 [18:16:07<3:44:18, 747.70s/epoch]"
     ]
    },
    {
     "name": "stdout",
     "output_type": "stream",
     "text": [
      "Epoch 82/100, Training Loss: 0.0761, Validation Accuracy: 82.12%...\n"
     ]
    },
    {
     "name": "stderr",
     "output_type": "stream",
     "text": [
      "Training Progress:  83%|████████▎ | 83/100 [18:29:44<3:37:44, 768.53s/epoch]"
     ]
    },
    {
     "name": "stdout",
     "output_type": "stream",
     "text": [
      "Epoch 83/100, Training Loss: 0.0791, Validation Accuracy: 82.02%...\n"
     ]
    },
    {
     "name": "stderr",
     "output_type": "stream",
     "text": [
      "Training Progress:  84%|████████▍ | 84/100 [18:43:24<3:29:03, 783.95s/epoch]"
     ]
    },
    {
     "name": "stdout",
     "output_type": "stream",
     "text": [
      "Epoch 84/100, Training Loss: 0.0751, Validation Accuracy: 81.02%...\n"
     ]
    },
    {
     "name": "stderr",
     "output_type": "stream",
     "text": [
      "Training Progress:  85%|████████▌ | 85/100 [18:56:51<3:17:42, 790.86s/epoch]"
     ]
    },
    {
     "name": "stdout",
     "output_type": "stream",
     "text": [
      "Epoch 85/100, Training Loss: 0.0761, Validation Accuracy: 81.92%...\n"
     ]
    },
    {
     "name": "stderr",
     "output_type": "stream",
     "text": [
      "Training Progress:  86%|████████▌ | 86/100 [19:09:46<3:03:24, 786.04s/epoch]"
     ]
    },
    {
     "name": "stdout",
     "output_type": "stream",
     "text": [
      "Epoch 86/100, Training Loss: 0.0758, Validation Accuracy: 82.02%...\n"
     ]
    },
    {
     "name": "stderr",
     "output_type": "stream",
     "text": [
      "Training Progress:  87%|████████▋ | 87/100 [19:23:48<2:53:56, 802.78s/epoch]"
     ]
    },
    {
     "name": "stdout",
     "output_type": "stream",
     "text": [
      "Epoch 87/100, Training Loss: 0.0729, Validation Accuracy: 81.82%...\n"
     ]
    },
    {
     "name": "stderr",
     "output_type": "stream",
     "text": [
      "Training Progress:  88%|████████▊ | 88/100 [19:38:17<2:44:32, 822.70s/epoch]"
     ]
    },
    {
     "name": "stdout",
     "output_type": "stream",
     "text": [
      "Epoch 88/100, Training Loss: 0.0729, Validation Accuracy: 82.32%...\n"
     ]
    },
    {
     "name": "stderr",
     "output_type": "stream",
     "text": [
      "Training Progress:  89%|████████▉ | 89/100 [19:49:15<2:21:46, 773.36s/epoch]"
     ]
    },
    {
     "name": "stdout",
     "output_type": "stream",
     "text": [
      "Epoch 89/100, Training Loss: 0.0764, Validation Accuracy: 82.32%...\n"
     ]
    },
    {
     "name": "stderr",
     "output_type": "stream",
     "text": [
      "Training Progress:  90%|█████████ | 90/100 [19:59:46<2:01:45, 730.58s/epoch]"
     ]
    },
    {
     "name": "stdout",
     "output_type": "stream",
     "text": [
      "Epoch 90/100, Training Loss: 0.0727, Validation Accuracy: 82.22%...\n"
     ]
    },
    {
     "name": "stderr",
     "output_type": "stream",
     "text": [
      "Training Progress:  91%|█████████ | 91/100 [20:10:08<1:44:42, 698.01s/epoch]"
     ]
    },
    {
     "name": "stdout",
     "output_type": "stream",
     "text": [
      "Epoch 91/100, Training Loss: 0.0775, Validation Accuracy: 81.52%...\n"
     ]
    },
    {
     "name": "stderr",
     "output_type": "stream",
     "text": [
      "Training Progress:  92%|█████████▏| 92/100 [20:20:32<1:30:04, 675.62s/epoch]"
     ]
    },
    {
     "name": "stdout",
     "output_type": "stream",
     "text": [
      "Epoch 92/100, Training Loss: 0.0750, Validation Accuracy: 81.32%...\n"
     ]
    },
    {
     "name": "stderr",
     "output_type": "stream",
     "text": [
      "Training Progress:  93%|█████████▎| 93/100 [20:30:59<1:17:08, 661.26s/epoch]"
     ]
    },
    {
     "name": "stdout",
     "output_type": "stream",
     "text": [
      "Epoch 93/100, Training Loss: 0.0723, Validation Accuracy: 81.72%...\n"
     ]
    },
    {
     "name": "stderr",
     "output_type": "stream",
     "text": [
      "Training Progress:  94%|█████████▍| 94/100 [20:41:54<1:05:55, 659.24s/epoch]"
     ]
    },
    {
     "name": "stdout",
     "output_type": "stream",
     "text": [
      "Epoch 94/100, Training Loss: 0.0749, Validation Accuracy: 81.52%...\n"
     ]
    },
    {
     "name": "stderr",
     "output_type": "stream",
     "text": [
      "Training Progress:  95%|█████████▌| 95/100 [20:55:36<59:00, 708.14s/epoch]  "
     ]
    },
    {
     "name": "stdout",
     "output_type": "stream",
     "text": [
      "Epoch 95/100, Training Loss: 0.0749, Validation Accuracy: 81.32%...\n"
     ]
    },
    {
     "name": "stderr",
     "output_type": "stream",
     "text": [
      "Training Progress:  96%|█████████▌| 96/100 [21:09:13<49:23, 740.83s/epoch]"
     ]
    },
    {
     "name": "stdout",
     "output_type": "stream",
     "text": [
      "Epoch 96/100, Training Loss: 0.0727, Validation Accuracy: 82.22%...\n"
     ]
    },
    {
     "name": "stderr",
     "output_type": "stream",
     "text": [
      "Training Progress:  97%|█████████▋| 97/100 [21:24:18<39:30, 790.16s/epoch]"
     ]
    },
    {
     "name": "stdout",
     "output_type": "stream",
     "text": [
      "Epoch 97/100, Training Loss: 0.0755, Validation Accuracy: 81.92%...\n"
     ]
    },
    {
     "name": "stderr",
     "output_type": "stream",
     "text": [
      "Training Progress:  98%|█████████▊| 98/100 [21:40:47<28:19, 849.55s/epoch]"
     ]
    },
    {
     "name": "stdout",
     "output_type": "stream",
     "text": [
      "Epoch 98/100, Training Loss: 0.0714, Validation Accuracy: 82.02%...\n"
     ]
    },
    {
     "name": "stderr",
     "output_type": "stream",
     "text": [
      "Training Progress:  99%|█████████▉| 99/100 [21:54:54<14:08, 848.83s/epoch]"
     ]
    },
    {
     "name": "stdout",
     "output_type": "stream",
     "text": [
      "Epoch 99/100, Training Loss: 0.0723, Validation Accuracy: 82.02%...\n"
     ]
    },
    {
     "name": "stderr",
     "output_type": "stream",
     "text": [
      "Training Progress: 100%|██████████| 100/100 [22:09:05<00:00, 797.46s/epoch]"
     ]
    },
    {
     "name": "stdout",
     "output_type": "stream",
     "text": [
      "Epoch 100/100, Training Loss: 0.0739, Validation Accuracy: 82.12%...\n",
      "CPU times: total: 8h 36min 18s\n",
      "Wall time: 22h 9min 5s\n"
     ]
    },
    {
     "name": "stderr",
     "output_type": "stream",
     "text": [
      "\n"
     ]
    }
   ],
   "source": [
    "%%time\n",
    "\n",
    "#early_stopping = EarlyStopping(patience=10, threshold=0.1)\n",
    "\n",
    "# Training\n",
    "for epoch in tqdm(range(num_epochs), desc=\"Training Progress\", unit=\"epoch\"):\n",
    "    model.train()\n",
    "    total_loss = 0.0\n",
    "\n",
    "    for inputs, labels in train_loader:\n",
    "        inputs, labels = inputs.to(device), labels.to(device)\n",
    "        \n",
    "        optimizer.zero_grad()\n",
    "        outputs = model(inputs)\n",
    "        loss = criterion(outputs, labels)\n",
    "        loss.backward()\n",
    "        optimizer.step()\n",
    "        total_loss += loss.item()\n",
    "\n",
    "    # Average training loss for the epoch\n",
    "    average_loss = total_loss / len(train_loader)\n",
    "    \n",
    "    # update the learning rate after every epoch\n",
    "    scheduler.step()\n",
    "        \n",
    "    # Validation check by every step and last one\n",
    "    step:int = 1\n",
    "    if (epoch % step == step-1) or (epoch == num_epochs-1):\n",
    "        model.eval()\n",
    "        all_preds, all_labels = [], []\n",
    "        \n",
    "        with torch.no_grad():\n",
    "            for inputs, labels in valid_loader:\n",
    "                inputs, labels = inputs.to(device), labels.to(device)\n",
    "                outputs = model(inputs)\n",
    "                _, preds = torch.max(outputs, 1)\n",
    "                \n",
    "                all_preds.extend(preds.cpu().numpy())\n",
    "                all_labels.extend(labels.cpu().numpy())\n",
    "        \n",
    "        # Calculate validation accuracy\n",
    "        val_accuracy = accuracy_score(all_labels, all_preds) * 100\n",
    "        tqdm.write(f'Epoch {epoch+1}/{num_epochs}, Training Loss: {average_loss:.4f}, Validation Accuracy: {val_accuracy:.2f}%...')\n",
    "\n",
    "        # Check the early stopping\n",
    "        # if early_stopping(val_accuracy):\n",
    "        #     print('Early Stopped....')\n",
    "        #     break"
   ]
  },
  {
   "cell_type": "code",
   "execution_count": 9,
   "metadata": {},
   "outputs": [
    {
     "name": "stdout",
     "output_type": "stream",
     "text": [
      "Test Accuracy : 0.80%...\n"
     ]
    }
   ],
   "source": [
    "# Test\n",
    "model.eval()\n",
    "test_preds, test_labels = [], []\n",
    "\n",
    "with torch.no_grad():\n",
    "    for inputs, labels in test_loader:\n",
    "        inputs, labels = inputs.to(device), labels.to(device)\n",
    "        outputs = model(inputs)\n",
    "        _, preds = torch.max(outputs, 1)\n",
    "        \n",
    "        test_preds.extend(preds.cpu().numpy())\n",
    "        test_labels.extend(labels.cpu().numpy())\n",
    "\n",
    "# Calculate test accuracy\n",
    "test_accuracy = accuracy_score(test_labels, test_preds)\n",
    "print(f'Test Accuracy : {test_accuracy:.2f}%...')"
   ]
  },
  {
   "cell_type": "code",
   "execution_count": 10,
   "metadata": {},
   "outputs": [
    {
     "name": "stdout",
     "output_type": "stream",
     "text": [
      "Pretrained model saved.....\n"
     ]
    }
   ],
   "source": [
    "# Save the fine-tuned model\n",
    "\n",
    "if apply_augment:\n",
    "    pth_name = f'./fine_tune_model/{model_architecture}_iter_{num_epochs}_aug_{apply_augment}_rand_{randomness}_test_{test_accuracy:.2f}%.pth'\n",
    "else:\n",
    "    pth_name = f'./fine_tune_model/{model_architecture}_iter_{num_epochs}_aug_{apply_augment}_test_{test_accuracy:.2f}%.pth'    \n",
    "\n",
    "torch.save(model.state_dict(), pth_name)\n",
    "    \n",
    "print(f'Pretrained model saved.....')"
   ]
  },
  {
   "cell_type": "code",
   "execution_count": null,
   "metadata": {},
   "outputs": [],
   "source": []
  },
  {
   "cell_type": "code",
   "execution_count": null,
   "metadata": {},
   "outputs": [],
   "source": []
  },
  {
   "cell_type": "code",
   "execution_count": null,
   "metadata": {},
   "outputs": [],
   "source": []
  }
 ],
 "metadata": {
  "kernelspec": {
   "display_name": "scene_detect",
   "language": "python",
   "name": "python3"
  },
  "language_info": {
   "codemirror_mode": {
    "name": "ipython",
    "version": 3
   },
   "file_extension": ".py",
   "mimetype": "text/x-python",
   "name": "python",
   "nbconvert_exporter": "python",
   "pygments_lexer": "ipython3",
   "version": "0.0.0"
  }
 },
 "nbformat": 4,
 "nbformat_minor": 2
}
